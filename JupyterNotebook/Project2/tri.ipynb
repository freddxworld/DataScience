{
 "cells": [
  {
   "cell_type": "code",
   "execution_count": 191,
   "id": "920cae79",
   "metadata": {},
   "outputs": [],
   "source": [
    "import pandas as pd\n",
    "import numpy as np\n",
    "import seaborn as sns\n",
    "import matplotlib.pyplot as plt\n",
    "from imblearn.over_sampling import SMOTE\n",
    "from sklearn.preprocessing import LabelEncoder\n",
    "from sklearn.preprocessing import StandardScaler\n",
    "from sklearn.model_selection import train_test_split\n",
    "from sklearn.metrics import f1_score, roc_auc_score, roc_curve"
   ]
  },
  {
   "cell_type": "code",
   "execution_count": 192,
   "id": "369c3130",
   "metadata": {},
   "outputs": [
    {
     "data": {
      "text/plain": [
       "id                     int64\n",
       "gender                object\n",
       "age                  float64\n",
       "hypertension           int64\n",
       "heart_disease          int64\n",
       "ever_married          object\n",
       "work_type             object\n",
       "Residence_type        object\n",
       "avg_glucose_level    float64\n",
       "bmi                  float64\n",
       "smoking_status        object\n",
       "stroke                 int64\n",
       "dtype: object"
      ]
     },
     "execution_count": 192,
     "metadata": {},
     "output_type": "execute_result"
    }
   ],
   "source": [
    "stroke_df = pd.read_csv(\"healthcare-dataset-stroke-data.csv\")\n",
    "stroke_df.dtypes"
   ]
  },
  {
   "cell_type": "code",
   "execution_count": 193,
   "id": "dc6f8959",
   "metadata": {},
   "outputs": [],
   "source": [
    "le = LabelEncoder()\n",
    "for i in stroke_df.columns[1:]:\n",
    "    if(stroke_df[i].dtype == 'object'):\n",
    "        stroke_df[i] = le.fit_transform(stroke_df[i])\n",
    "        \n",
    "stroke_df['bmi']=stroke_df['bmi'].fillna(stroke_df['bmi']).mean()"
   ]
  },
  {
   "cell_type": "markdown",
   "id": "165b7e1c",
   "metadata": {},
   "source": [
    "### Standardize Data"
   ]
  },
  {
   "cell_type": "code",
   "execution_count": 194,
   "id": "652090da",
   "metadata": {},
   "outputs": [],
   "source": [
    "scale = StandardScaler()\n",
    "stroke_df[['age','avg_glucose_level','bmi']] = scale.fit_transform(stroke_df[['age','avg_glucose_level','bmi']])"
   ]
  },
  {
   "cell_type": "markdown",
   "id": "9e2234fc",
   "metadata": {},
   "source": [
    "### Split into Train & Testing Data"
   ]
  },
  {
   "cell_type": "code",
   "execution_count": 202,
   "id": "b7baff35",
   "metadata": {},
   "outputs": [],
   "source": [
    "X = stroke_df[['heart_disease','hypertension','age','avg_glucose_level','bmi', 'smoking_status', 'work_type']]\n",
    "y = stroke_df['stroke']\n",
    "X_resampled, y_resampled = SMOTE().fit_resample(X, y)\n",
    "X_train,X_test,y_train,y_test = train_test_split(X_resampled,y_resampled, test_size = 0.3, random_state = 0)"
   ]
  },
  {
   "cell_type": "code",
   "execution_count": 203,
   "id": "3cac0d59",
   "metadata": {},
   "outputs": [
    {
     "data": {
      "text/html": [
       "<div>\n",
       "<style scoped>\n",
       "    .dataframe tbody tr th:only-of-type {\n",
       "        vertical-align: middle;\n",
       "    }\n",
       "\n",
       "    .dataframe tbody tr th {\n",
       "        vertical-align: top;\n",
       "    }\n",
       "\n",
       "    .dataframe thead th {\n",
       "        text-align: right;\n",
       "    }\n",
       "</style>\n",
       "<table border=\"1\" class=\"dataframe\">\n",
       "  <thead>\n",
       "    <tr style=\"text-align: right;\">\n",
       "      <th></th>\n",
       "      <th>id</th>\n",
       "      <th>gender</th>\n",
       "      <th>age</th>\n",
       "      <th>hypertension</th>\n",
       "      <th>heart_disease</th>\n",
       "      <th>ever_married</th>\n",
       "      <th>work_type</th>\n",
       "      <th>Residence_type</th>\n",
       "      <th>avg_glucose_level</th>\n",
       "      <th>bmi</th>\n",
       "      <th>smoking_status</th>\n",
       "      <th>stroke</th>\n",
       "    </tr>\n",
       "  </thead>\n",
       "  <tbody>\n",
       "    <tr>\n",
       "      <th>0</th>\n",
       "      <td>9046</td>\n",
       "      <td>1</td>\n",
       "      <td>1.051434</td>\n",
       "      <td>0</td>\n",
       "      <td>1</td>\n",
       "      <td>1</td>\n",
       "      <td>2</td>\n",
       "      <td>1</td>\n",
       "      <td>2.706375</td>\n",
       "      <td>-7.105427e-15</td>\n",
       "      <td>1</td>\n",
       "      <td>1</td>\n",
       "    </tr>\n",
       "    <tr>\n",
       "      <th>1</th>\n",
       "      <td>51676</td>\n",
       "      <td>0</td>\n",
       "      <td>0.786070</td>\n",
       "      <td>0</td>\n",
       "      <td>0</td>\n",
       "      <td>1</td>\n",
       "      <td>3</td>\n",
       "      <td>0</td>\n",
       "      <td>2.121559</td>\n",
       "      <td>-7.105427e-15</td>\n",
       "      <td>2</td>\n",
       "      <td>1</td>\n",
       "    </tr>\n",
       "    <tr>\n",
       "      <th>2</th>\n",
       "      <td>31112</td>\n",
       "      <td>1</td>\n",
       "      <td>1.626390</td>\n",
       "      <td>0</td>\n",
       "      <td>1</td>\n",
       "      <td>1</td>\n",
       "      <td>2</td>\n",
       "      <td>0</td>\n",
       "      <td>-0.005028</td>\n",
       "      <td>-7.105427e-15</td>\n",
       "      <td>2</td>\n",
       "      <td>1</td>\n",
       "    </tr>\n",
       "    <tr>\n",
       "      <th>3</th>\n",
       "      <td>60182</td>\n",
       "      <td>0</td>\n",
       "      <td>0.255342</td>\n",
       "      <td>0</td>\n",
       "      <td>0</td>\n",
       "      <td>1</td>\n",
       "      <td>2</td>\n",
       "      <td>1</td>\n",
       "      <td>1.437358</td>\n",
       "      <td>-7.105427e-15</td>\n",
       "      <td>3</td>\n",
       "      <td>1</td>\n",
       "    </tr>\n",
       "    <tr>\n",
       "      <th>4</th>\n",
       "      <td>1665</td>\n",
       "      <td>0</td>\n",
       "      <td>1.582163</td>\n",
       "      <td>1</td>\n",
       "      <td>0</td>\n",
       "      <td>1</td>\n",
       "      <td>3</td>\n",
       "      <td>0</td>\n",
       "      <td>1.501184</td>\n",
       "      <td>-7.105427e-15</td>\n",
       "      <td>2</td>\n",
       "      <td>1</td>\n",
       "    </tr>\n",
       "    <tr>\n",
       "      <th>...</th>\n",
       "      <td>...</td>\n",
       "      <td>...</td>\n",
       "      <td>...</td>\n",
       "      <td>...</td>\n",
       "      <td>...</td>\n",
       "      <td>...</td>\n",
       "      <td>...</td>\n",
       "      <td>...</td>\n",
       "      <td>...</td>\n",
       "      <td>...</td>\n",
       "      <td>...</td>\n",
       "      <td>...</td>\n",
       "    </tr>\n",
       "    <tr>\n",
       "      <th>5105</th>\n",
       "      <td>18234</td>\n",
       "      <td>0</td>\n",
       "      <td>1.626390</td>\n",
       "      <td>1</td>\n",
       "      <td>0</td>\n",
       "      <td>1</td>\n",
       "      <td>2</td>\n",
       "      <td>1</td>\n",
       "      <td>-0.494658</td>\n",
       "      <td>-7.105427e-15</td>\n",
       "      <td>2</td>\n",
       "      <td>0</td>\n",
       "    </tr>\n",
       "    <tr>\n",
       "      <th>5106</th>\n",
       "      <td>44873</td>\n",
       "      <td>0</td>\n",
       "      <td>1.670617</td>\n",
       "      <td>0</td>\n",
       "      <td>0</td>\n",
       "      <td>1</td>\n",
       "      <td>3</td>\n",
       "      <td>1</td>\n",
       "      <td>0.420775</td>\n",
       "      <td>-7.105427e-15</td>\n",
       "      <td>2</td>\n",
       "      <td>0</td>\n",
       "    </tr>\n",
       "    <tr>\n",
       "      <th>5107</th>\n",
       "      <td>19723</td>\n",
       "      <td>0</td>\n",
       "      <td>-0.363842</td>\n",
       "      <td>0</td>\n",
       "      <td>0</td>\n",
       "      <td>1</td>\n",
       "      <td>3</td>\n",
       "      <td>0</td>\n",
       "      <td>-0.511443</td>\n",
       "      <td>-7.105427e-15</td>\n",
       "      <td>2</td>\n",
       "      <td>0</td>\n",
       "    </tr>\n",
       "    <tr>\n",
       "      <th>5108</th>\n",
       "      <td>37544</td>\n",
       "      <td>1</td>\n",
       "      <td>0.343796</td>\n",
       "      <td>0</td>\n",
       "      <td>0</td>\n",
       "      <td>1</td>\n",
       "      <td>2</td>\n",
       "      <td>0</td>\n",
       "      <td>1.328257</td>\n",
       "      <td>-7.105427e-15</td>\n",
       "      <td>1</td>\n",
       "      <td>0</td>\n",
       "    </tr>\n",
       "    <tr>\n",
       "      <th>5109</th>\n",
       "      <td>44679</td>\n",
       "      <td>0</td>\n",
       "      <td>0.034205</td>\n",
       "      <td>0</td>\n",
       "      <td>0</td>\n",
       "      <td>1</td>\n",
       "      <td>0</td>\n",
       "      <td>1</td>\n",
       "      <td>-0.460867</td>\n",
       "      <td>-7.105427e-15</td>\n",
       "      <td>0</td>\n",
       "      <td>0</td>\n",
       "    </tr>\n",
       "  </tbody>\n",
       "</table>\n",
       "<p>5110 rows × 12 columns</p>\n",
       "</div>"
      ],
      "text/plain": [
       "         id  gender       age  hypertension  heart_disease  ever_married  \\\n",
       "0      9046       1  1.051434             0              1             1   \n",
       "1     51676       0  0.786070             0              0             1   \n",
       "2     31112       1  1.626390             0              1             1   \n",
       "3     60182       0  0.255342             0              0             1   \n",
       "4      1665       0  1.582163             1              0             1   \n",
       "...     ...     ...       ...           ...            ...           ...   \n",
       "5105  18234       0  1.626390             1              0             1   \n",
       "5106  44873       0  1.670617             0              0             1   \n",
       "5107  19723       0 -0.363842             0              0             1   \n",
       "5108  37544       1  0.343796             0              0             1   \n",
       "5109  44679       0  0.034205             0              0             1   \n",
       "\n",
       "      work_type  Residence_type  avg_glucose_level           bmi  \\\n",
       "0             2               1           2.706375 -7.105427e-15   \n",
       "1             3               0           2.121559 -7.105427e-15   \n",
       "2             2               0          -0.005028 -7.105427e-15   \n",
       "3             2               1           1.437358 -7.105427e-15   \n",
       "4             3               0           1.501184 -7.105427e-15   \n",
       "...         ...             ...                ...           ...   \n",
       "5105          2               1          -0.494658 -7.105427e-15   \n",
       "5106          3               1           0.420775 -7.105427e-15   \n",
       "5107          3               0          -0.511443 -7.105427e-15   \n",
       "5108          2               0           1.328257 -7.105427e-15   \n",
       "5109          0               1          -0.460867 -7.105427e-15   \n",
       "\n",
       "      smoking_status  stroke  \n",
       "0                  1       1  \n",
       "1                  2       1  \n",
       "2                  2       1  \n",
       "3                  3       1  \n",
       "4                  2       1  \n",
       "...              ...     ...  \n",
       "5105               2       0  \n",
       "5106               2       0  \n",
       "5107               2       0  \n",
       "5108               1       0  \n",
       "5109               0       0  \n",
       "\n",
       "[5110 rows x 12 columns]"
      ]
     },
     "execution_count": 203,
     "metadata": {},
     "output_type": "execute_result"
    }
   ],
   "source": [
    "stroke_df"
   ]
  },
  {
   "cell_type": "markdown",
   "id": "47358202",
   "metadata": {},
   "source": [
    "## Logistic Regression Model"
   ]
  },
  {
   "cell_type": "code",
   "execution_count": 204,
   "id": "cf6e16ed",
   "metadata": {},
   "outputs": [
    {
     "name": "stdout",
     "output_type": "stream",
     "text": [
      "Accuracy: 0.7826534110387384\n",
      "F-score: 0.7910349373764008\n",
      "AUC-ROC: 0.7824462308722939\n"
     ]
    }
   ],
   "source": [
    "from sklearn.linear_model import LogisticRegression\n",
    "lr = LogisticRegression()\n",
    "lr.fit(X_train, y_train)\n",
    "y_pred = lr.predict(X_test)\n",
    "accuracy = lr.score(X_test, y_test)\n",
    "f_score = f1_score(y_test, y_pred)\n",
    "auc_roc = roc_auc_score(y_test, y_pred)\n",
    "print('Accuracy:', accuracy)\n",
    "print('F-score:', f_score)\n",
    "print('AUC-ROC:', auc_roc)\n",
    "LRs, LRt, _ = roc_curve(y_test, y_pred)"
   ]
  },
  {
   "cell_type": "markdown",
   "id": "1ac0a544",
   "metadata": {},
   "source": [
    "## Naive Bayes Model"
   ]
  },
  {
   "cell_type": "code",
   "execution_count": 205,
   "id": "894b3060",
   "metadata": {},
   "outputs": [
    {
     "name": "stdout",
     "output_type": "stream",
     "text": [
      "Accuracy: 0.743914981145012\n",
      "F-score: 0.7401739130434782\n",
      "AUC-ROC: 0.744024163787227\n"
     ]
    }
   ],
   "source": [
    "from sklearn.naive_bayes import GaussianNB\n",
    "nb = GaussianNB()\n",
    "nb.fit(X_train, y_train)\n",
    "y_pred = nb.predict(X_test)\n",
    "accuracy = nb.score(X_test, y_test)\n",
    "f_score = f1_score(y_test, y_pred)\n",
    "auc_roc = roc_auc_score(y_test, y_pred)\n",
    "print('Accuracy:', accuracy)\n",
    "print('F-score:', f_score)\n",
    "print('AUC-ROC:', auc_roc)\n",
    "NBr, NBm, _ = roc_curve(y_test, y_pred)\n"
   ]
  },
  {
   "cell_type": "markdown",
   "id": "bee5e227",
   "metadata": {},
   "source": [
    "## K Nearest Neighbor Classifier model"
   ]
  },
  {
   "cell_type": "code",
   "execution_count": 206,
   "id": "137548da",
   "metadata": {},
   "outputs": [
    {
     "name": "stdout",
     "output_type": "stream",
     "text": [
      "Accuracy: 0.8639012684264655\n",
      "F-score: 0.8709782255443614\n",
      "AUC-ROC: 0.8636109348188891\n"
     ]
    }
   ],
   "source": [
    "from sklearn.neighbors import KNeighborsClassifier\n",
    "knn = KNeighborsClassifier(n_neighbors=5)\n",
    "knn.fit(X_train, y_train)\n",
    "y_pred = knn.predict(X_test)\n",
    "accuracy = knn.score(X_test, y_test)\n",
    "f_score = f1_score(y_test, y_pred)\n",
    "auc_roc = roc_auc_score(y_test, y_pred)\n",
    "print('Accuracy:', accuracy)\n",
    "print('F-score:', f_score)\n",
    "print('AUC-ROC:', auc_roc)\n",
    "KNr, KNt, _ = roc_curve(y_test, y_pred)\n"
   ]
  },
  {
   "cell_type": "markdown",
   "id": "6eba410a",
   "metadata": {},
   "source": [
    "## Support Vector Machine Classifier model"
   ]
  },
  {
   "cell_type": "code",
   "execution_count": 207,
   "id": "851cf6b2",
   "metadata": {},
   "outputs": [
    {
     "name": "stdout",
     "output_type": "stream",
     "text": [
      "Accuracy: 0.7812821391840933\n",
      "F-score: 0.7904073587385019\n",
      "AUC-ROC: 0.7810549326563713\n"
     ]
    }
   ],
   "source": [
    "from sklearn.svm import SVC\n",
    "svm = SVC(kernel='linear', C=1, random_state=0)\n",
    "svm.fit(X_train, y_train)\n",
    "y_pred = svm.predict(X_test)\n",
    "accuracy = svm.score(X_test, y_test)\n",
    "f_score = f1_score(y_test, y_pred)\n",
    "auc_roc = roc_auc_score(y_test, y_pred)\n",
    "print('Accuracy:', accuracy)\n",
    "print('F-score:', f_score)\n",
    "print('AUC-ROC:', auc_roc)\n",
    "SVr, SVt, _ = roc_curve(y_test, y_pred)"
   ]
  },
  {
   "cell_type": "code",
   "execution_count": 208,
   "id": "5319df1f",
   "metadata": {},
   "outputs": [
    {
     "data": {
      "image/png": "[encoded data removed]",
      "text/plain": [
       "<Figure size 432x288 with 1 Axes>"
      ]
     },
     "metadata": {
      "needs_background": "light"
     },
     "output_type": "display_data"
    }
   ],
   "source": [
    "plt.plot(LRs, LRt, label='Logistic Regression')\n",
    "plt.plot(NBr,NBm, label=\"Naive Bayes\")\n",
    "plt.plot(KNr,KNt, label=\"K Neareast\")\n",
    "plt.plot(SVr,SVt, label=\"Support Vector Machine\")\n",
    "plt.plot([0, 1], [0, 1], 'k--')\n",
    "plt.xlabel('False Positive Rate')\n",
    "plt.ylabel('True Positive Rate')\n",
    "plt.title('ROC Curve')\n",
    "plt.legend()\n",
    "plt.show()"
   ]
  }
 ],
 "metadata": {
  "kernelspec": {
   "display_name": "Python 3 (ipykernel)",
   "language": "python",
   "name": "python3"
  },
  "language_info": {
   "codemirror_mode": {
    "name": "ipython",
    "version": 3
   },
   "file_extension": ".py",
   "mimetype": "text/x-python",
   "name": "python",
   "nbconvert_exporter": "python",
   "pygments_lexer": "ipython3",
   "version": "3.9.12"
  }
 },
 "nbformat": 4,
 "nbformat_minor": 5
}
