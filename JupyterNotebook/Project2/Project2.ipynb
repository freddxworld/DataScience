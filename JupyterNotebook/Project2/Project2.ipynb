{
 "cells": [
  {
   "cell_type": "code",
   "execution_count": 1,
   "id": "04253cc8",
   "metadata": {},
   "outputs": [],
   "source": [
    "import pandas as pd\n",
    "import numpy as np\n",
    "import seaborn as sns\n",
    "import matplotlib.pyplot as plt\n",
    "from sklearn.preprocessing import LabelEncoder\n",
    "from imblearn.over_sampling import SMOTE\n",
    "from sklearn.model_selection import train_test_split\n",
    "from sklearn.preprocessing import StandardScaler\n",
    "from sklearn import preprocessing\n",
    "from sklearn.linear_model import LogisticRegression\n",
    "from sklearn.metrics import accuracy_score\n",
    "from sklearn.naive_bayes import GaussianNB\n",
    "from sklearn.neighbors import KNeighborsClassifier\n",
    "from sklearn.svm import SVC\n",
    "\n",
    "from sklearn.preprocessing import MinMaxScaler\n",
    "\n",
    "from sklearn.feature_selection import SelectKBest\n",
    "from sklearn.feature_selection import chi2"
   ]
  },
  {
   "cell_type": "code",
   "execution_count": 2,
   "id": "f485c672",
   "metadata": {},
   "outputs": [],
   "source": [
    "df = pd.read_csv(\"healthcare-dataset-stroke-data.csv\")"
   ]
  },
  {
   "cell_type": "code",
   "execution_count": 3,
   "id": "c2d3add5",
   "metadata": {},
   "outputs": [],
   "source": [
    "df = df[['gender', 'age', 'hypertension', 'heart_disease', 'ever_married', 'work_type', 'Residence_type','avg_glucose_level', 'bmi', 'smoking_status', 'stroke']]"
   ]
  },
  {
   "cell_type": "markdown",
   "id": "0a1b01a4",
   "metadata": {},
   "source": [
    "##### Handling the outliers"
   ]
  },
  {
   "cell_type": "code",
   "execution_count": 4,
   "id": "1089a2ab",
   "metadata": {},
   "outputs": [],
   "source": [
    "df['bmi'] = df['bmi'].apply(lambda x: 47 if x > 47 else x)\n",
    "df['avg_glucose_level'] = df['avg_glucose_level'].apply(lambda x: 170 if x > 170 else x)"
   ]
  },
  {
   "cell_type": "markdown",
   "id": "d84911a1",
   "metadata": {},
   "source": [
    "#### Handling the null values for BMI  "
   ]
  },
  {
   "cell_type": "code",
   "execution_count": 5,
   "id": "e43c46fe",
   "metadata": {},
   "outputs": [
    {
     "data": {
      "text/html": [
       "<div>\n",
       "<style scoped>\n",
       "    .dataframe tbody tr th:only-of-type {\n",
       "        vertical-align: middle;\n",
       "    }\n",
       "\n",
       "    .dataframe tbody tr th {\n",
       "        vertical-align: top;\n",
       "    }\n",
       "\n",
       "    .dataframe thead th {\n",
       "        text-align: right;\n",
       "    }\n",
       "</style>\n",
       "<table border=\"1\" class=\"dataframe\">\n",
       "  <thead>\n",
       "    <tr style=\"text-align: right;\">\n",
       "      <th></th>\n",
       "      <th>gender</th>\n",
       "      <th>age</th>\n",
       "      <th>hypertension</th>\n",
       "      <th>heart_disease</th>\n",
       "      <th>ever_married</th>\n",
       "      <th>work_type</th>\n",
       "      <th>Residence_type</th>\n",
       "      <th>avg_glucose_level</th>\n",
       "      <th>bmi</th>\n",
       "      <th>smoking_status</th>\n",
       "      <th>stroke</th>\n",
       "    </tr>\n",
       "  </thead>\n",
       "  <tbody>\n",
       "    <tr>\n",
       "      <th>0</th>\n",
       "      <td>Male</td>\n",
       "      <td>67.0</td>\n",
       "      <td>0</td>\n",
       "      <td>1</td>\n",
       "      <td>Yes</td>\n",
       "      <td>Private</td>\n",
       "      <td>Urban</td>\n",
       "      <td>170.00</td>\n",
       "      <td>36.6</td>\n",
       "      <td>formerly smoked</td>\n",
       "      <td>1</td>\n",
       "    </tr>\n",
       "    <tr>\n",
       "      <th>1</th>\n",
       "      <td>Female</td>\n",
       "      <td>61.0</td>\n",
       "      <td>0</td>\n",
       "      <td>0</td>\n",
       "      <td>Yes</td>\n",
       "      <td>Self-employed</td>\n",
       "      <td>Rural</td>\n",
       "      <td>170.00</td>\n",
       "      <td>NaN</td>\n",
       "      <td>never smoked</td>\n",
       "      <td>1</td>\n",
       "    </tr>\n",
       "    <tr>\n",
       "      <th>2</th>\n",
       "      <td>Male</td>\n",
       "      <td>80.0</td>\n",
       "      <td>0</td>\n",
       "      <td>1</td>\n",
       "      <td>Yes</td>\n",
       "      <td>Private</td>\n",
       "      <td>Rural</td>\n",
       "      <td>105.92</td>\n",
       "      <td>32.5</td>\n",
       "      <td>never smoked</td>\n",
       "      <td>1</td>\n",
       "    </tr>\n",
       "    <tr>\n",
       "      <th>3</th>\n",
       "      <td>Female</td>\n",
       "      <td>49.0</td>\n",
       "      <td>0</td>\n",
       "      <td>0</td>\n",
       "      <td>Yes</td>\n",
       "      <td>Private</td>\n",
       "      <td>Urban</td>\n",
       "      <td>170.00</td>\n",
       "      <td>34.4</td>\n",
       "      <td>smokes</td>\n",
       "      <td>1</td>\n",
       "    </tr>\n",
       "    <tr>\n",
       "      <th>4</th>\n",
       "      <td>Female</td>\n",
       "      <td>79.0</td>\n",
       "      <td>1</td>\n",
       "      <td>0</td>\n",
       "      <td>Yes</td>\n",
       "      <td>Self-employed</td>\n",
       "      <td>Rural</td>\n",
       "      <td>170.00</td>\n",
       "      <td>24.0</td>\n",
       "      <td>never smoked</td>\n",
       "      <td>1</td>\n",
       "    </tr>\n",
       "    <tr>\n",
       "      <th>...</th>\n",
       "      <td>...</td>\n",
       "      <td>...</td>\n",
       "      <td>...</td>\n",
       "      <td>...</td>\n",
       "      <td>...</td>\n",
       "      <td>...</td>\n",
       "      <td>...</td>\n",
       "      <td>...</td>\n",
       "      <td>...</td>\n",
       "      <td>...</td>\n",
       "      <td>...</td>\n",
       "    </tr>\n",
       "    <tr>\n",
       "      <th>5105</th>\n",
       "      <td>Female</td>\n",
       "      <td>80.0</td>\n",
       "      <td>1</td>\n",
       "      <td>0</td>\n",
       "      <td>Yes</td>\n",
       "      <td>Private</td>\n",
       "      <td>Urban</td>\n",
       "      <td>83.75</td>\n",
       "      <td>NaN</td>\n",
       "      <td>never smoked</td>\n",
       "      <td>0</td>\n",
       "    </tr>\n",
       "    <tr>\n",
       "      <th>5106</th>\n",
       "      <td>Female</td>\n",
       "      <td>81.0</td>\n",
       "      <td>0</td>\n",
       "      <td>0</td>\n",
       "      <td>Yes</td>\n",
       "      <td>Self-employed</td>\n",
       "      <td>Urban</td>\n",
       "      <td>125.20</td>\n",
       "      <td>40.0</td>\n",
       "      <td>never smoked</td>\n",
       "      <td>0</td>\n",
       "    </tr>\n",
       "    <tr>\n",
       "      <th>5107</th>\n",
       "      <td>Female</td>\n",
       "      <td>35.0</td>\n",
       "      <td>0</td>\n",
       "      <td>0</td>\n",
       "      <td>Yes</td>\n",
       "      <td>Self-employed</td>\n",
       "      <td>Rural</td>\n",
       "      <td>82.99</td>\n",
       "      <td>30.6</td>\n",
       "      <td>never smoked</td>\n",
       "      <td>0</td>\n",
       "    </tr>\n",
       "    <tr>\n",
       "      <th>5108</th>\n",
       "      <td>Male</td>\n",
       "      <td>51.0</td>\n",
       "      <td>0</td>\n",
       "      <td>0</td>\n",
       "      <td>Yes</td>\n",
       "      <td>Private</td>\n",
       "      <td>Rural</td>\n",
       "      <td>166.29</td>\n",
       "      <td>25.6</td>\n",
       "      <td>formerly smoked</td>\n",
       "      <td>0</td>\n",
       "    </tr>\n",
       "    <tr>\n",
       "      <th>5109</th>\n",
       "      <td>Female</td>\n",
       "      <td>44.0</td>\n",
       "      <td>0</td>\n",
       "      <td>0</td>\n",
       "      <td>Yes</td>\n",
       "      <td>Govt_job</td>\n",
       "      <td>Urban</td>\n",
       "      <td>85.28</td>\n",
       "      <td>26.2</td>\n",
       "      <td>Unknown</td>\n",
       "      <td>0</td>\n",
       "    </tr>\n",
       "  </tbody>\n",
       "</table>\n",
       "<p>5110 rows × 11 columns</p>\n",
       "</div>"
      ],
      "text/plain": [
       "      gender   age  hypertension  heart_disease ever_married      work_type  \\\n",
       "0       Male  67.0             0              1          Yes        Private   \n",
       "1     Female  61.0             0              0          Yes  Self-employed   \n",
       "2       Male  80.0             0              1          Yes        Private   \n",
       "3     Female  49.0             0              0          Yes        Private   \n",
       "4     Female  79.0             1              0          Yes  Self-employed   \n",
       "...      ...   ...           ...            ...          ...            ...   \n",
       "5105  Female  80.0             1              0          Yes        Private   \n",
       "5106  Female  81.0             0              0          Yes  Self-employed   \n",
       "5107  Female  35.0             0              0          Yes  Self-employed   \n",
       "5108    Male  51.0             0              0          Yes        Private   \n",
       "5109  Female  44.0             0              0          Yes       Govt_job   \n",
       "\n",
       "     Residence_type  avg_glucose_level   bmi   smoking_status  stroke  \n",
       "0             Urban             170.00  36.6  formerly smoked       1  \n",
       "1             Rural             170.00   NaN     never smoked       1  \n",
       "2             Rural             105.92  32.5     never smoked       1  \n",
       "3             Urban             170.00  34.4           smokes       1  \n",
       "4             Rural             170.00  24.0     never smoked       1  \n",
       "...             ...                ...   ...              ...     ...  \n",
       "5105          Urban              83.75   NaN     never smoked       0  \n",
       "5106          Urban             125.20  40.0     never smoked       0  \n",
       "5107          Rural              82.99  30.6     never smoked       0  \n",
       "5108          Rural             166.29  25.6  formerly smoked       0  \n",
       "5109          Urban              85.28  26.2          Unknown       0  \n",
       "\n",
       "[5110 rows x 11 columns]"
      ]
     },
     "execution_count": 5,
     "metadata": {},
     "output_type": "execute_result"
    }
   ],
   "source": [
    "df"
   ]
  },
  {
   "cell_type": "code",
   "execution_count": 6,
   "id": "8258106d",
   "metadata": {},
   "outputs": [],
   "source": [
    "#based on the plot for bmi we can see that it is not normally distributed so we will be filling in the missing values using \n",
    "#the medium\n",
    "df['bmi'] = df['bmi'].fillna(df['bmi'].median())"
   ]
  },
  {
   "cell_type": "code",
   "execution_count": 7,
   "id": "7dbba6cd",
   "metadata": {},
   "outputs": [
    {
     "data": {
      "text/html": [
       "<div>\n",
       "<style scoped>\n",
       "    .dataframe tbody tr th:only-of-type {\n",
       "        vertical-align: middle;\n",
       "    }\n",
       "\n",
       "    .dataframe tbody tr th {\n",
       "        vertical-align: top;\n",
       "    }\n",
       "\n",
       "    .dataframe thead th {\n",
       "        text-align: right;\n",
       "    }\n",
       "</style>\n",
       "<table border=\"1\" class=\"dataframe\">\n",
       "  <thead>\n",
       "    <tr style=\"text-align: right;\">\n",
       "      <th></th>\n",
       "      <th>gender</th>\n",
       "      <th>age</th>\n",
       "      <th>hypertension</th>\n",
       "      <th>heart_disease</th>\n",
       "      <th>ever_married</th>\n",
       "      <th>work_type</th>\n",
       "      <th>Residence_type</th>\n",
       "      <th>avg_glucose_level</th>\n",
       "      <th>bmi</th>\n",
       "      <th>smoking_status</th>\n",
       "      <th>stroke</th>\n",
       "    </tr>\n",
       "  </thead>\n",
       "  <tbody>\n",
       "    <tr>\n",
       "      <th>0</th>\n",
       "      <td>Male</td>\n",
       "      <td>67.0</td>\n",
       "      <td>0</td>\n",
       "      <td>1</td>\n",
       "      <td>Yes</td>\n",
       "      <td>Private</td>\n",
       "      <td>Urban</td>\n",
       "      <td>170.00</td>\n",
       "      <td>36.6</td>\n",
       "      <td>formerly smoked</td>\n",
       "      <td>1</td>\n",
       "    </tr>\n",
       "    <tr>\n",
       "      <th>1</th>\n",
       "      <td>Female</td>\n",
       "      <td>61.0</td>\n",
       "      <td>0</td>\n",
       "      <td>0</td>\n",
       "      <td>Yes</td>\n",
       "      <td>Self-employed</td>\n",
       "      <td>Rural</td>\n",
       "      <td>170.00</td>\n",
       "      <td>28.1</td>\n",
       "      <td>never smoked</td>\n",
       "      <td>1</td>\n",
       "    </tr>\n",
       "    <tr>\n",
       "      <th>2</th>\n",
       "      <td>Male</td>\n",
       "      <td>80.0</td>\n",
       "      <td>0</td>\n",
       "      <td>1</td>\n",
       "      <td>Yes</td>\n",
       "      <td>Private</td>\n",
       "      <td>Rural</td>\n",
       "      <td>105.92</td>\n",
       "      <td>32.5</td>\n",
       "      <td>never smoked</td>\n",
       "      <td>1</td>\n",
       "    </tr>\n",
       "    <tr>\n",
       "      <th>3</th>\n",
       "      <td>Female</td>\n",
       "      <td>49.0</td>\n",
       "      <td>0</td>\n",
       "      <td>0</td>\n",
       "      <td>Yes</td>\n",
       "      <td>Private</td>\n",
       "      <td>Urban</td>\n",
       "      <td>170.00</td>\n",
       "      <td>34.4</td>\n",
       "      <td>smokes</td>\n",
       "      <td>1</td>\n",
       "    </tr>\n",
       "    <tr>\n",
       "      <th>4</th>\n",
       "      <td>Female</td>\n",
       "      <td>79.0</td>\n",
       "      <td>1</td>\n",
       "      <td>0</td>\n",
       "      <td>Yes</td>\n",
       "      <td>Self-employed</td>\n",
       "      <td>Rural</td>\n",
       "      <td>170.00</td>\n",
       "      <td>24.0</td>\n",
       "      <td>never smoked</td>\n",
       "      <td>1</td>\n",
       "    </tr>\n",
       "    <tr>\n",
       "      <th>...</th>\n",
       "      <td>...</td>\n",
       "      <td>...</td>\n",
       "      <td>...</td>\n",
       "      <td>...</td>\n",
       "      <td>...</td>\n",
       "      <td>...</td>\n",
       "      <td>...</td>\n",
       "      <td>...</td>\n",
       "      <td>...</td>\n",
       "      <td>...</td>\n",
       "      <td>...</td>\n",
       "    </tr>\n",
       "    <tr>\n",
       "      <th>5105</th>\n",
       "      <td>Female</td>\n",
       "      <td>80.0</td>\n",
       "      <td>1</td>\n",
       "      <td>0</td>\n",
       "      <td>Yes</td>\n",
       "      <td>Private</td>\n",
       "      <td>Urban</td>\n",
       "      <td>83.75</td>\n",
       "      <td>28.1</td>\n",
       "      <td>never smoked</td>\n",
       "      <td>0</td>\n",
       "    </tr>\n",
       "    <tr>\n",
       "      <th>5106</th>\n",
       "      <td>Female</td>\n",
       "      <td>81.0</td>\n",
       "      <td>0</td>\n",
       "      <td>0</td>\n",
       "      <td>Yes</td>\n",
       "      <td>Self-employed</td>\n",
       "      <td>Urban</td>\n",
       "      <td>125.20</td>\n",
       "      <td>40.0</td>\n",
       "      <td>never smoked</td>\n",
       "      <td>0</td>\n",
       "    </tr>\n",
       "    <tr>\n",
       "      <th>5107</th>\n",
       "      <td>Female</td>\n",
       "      <td>35.0</td>\n",
       "      <td>0</td>\n",
       "      <td>0</td>\n",
       "      <td>Yes</td>\n",
       "      <td>Self-employed</td>\n",
       "      <td>Rural</td>\n",
       "      <td>82.99</td>\n",
       "      <td>30.6</td>\n",
       "      <td>never smoked</td>\n",
       "      <td>0</td>\n",
       "    </tr>\n",
       "    <tr>\n",
       "      <th>5108</th>\n",
       "      <td>Male</td>\n",
       "      <td>51.0</td>\n",
       "      <td>0</td>\n",
       "      <td>0</td>\n",
       "      <td>Yes</td>\n",
       "      <td>Private</td>\n",
       "      <td>Rural</td>\n",
       "      <td>166.29</td>\n",
       "      <td>25.6</td>\n",
       "      <td>formerly smoked</td>\n",
       "      <td>0</td>\n",
       "    </tr>\n",
       "    <tr>\n",
       "      <th>5109</th>\n",
       "      <td>Female</td>\n",
       "      <td>44.0</td>\n",
       "      <td>0</td>\n",
       "      <td>0</td>\n",
       "      <td>Yes</td>\n",
       "      <td>Govt_job</td>\n",
       "      <td>Urban</td>\n",
       "      <td>85.28</td>\n",
       "      <td>26.2</td>\n",
       "      <td>Unknown</td>\n",
       "      <td>0</td>\n",
       "    </tr>\n",
       "  </tbody>\n",
       "</table>\n",
       "<p>5110 rows × 11 columns</p>\n",
       "</div>"
      ],
      "text/plain": [
       "      gender   age  hypertension  heart_disease ever_married      work_type  \\\n",
       "0       Male  67.0             0              1          Yes        Private   \n",
       "1     Female  61.0             0              0          Yes  Self-employed   \n",
       "2       Male  80.0             0              1          Yes        Private   \n",
       "3     Female  49.0             0              0          Yes        Private   \n",
       "4     Female  79.0             1              0          Yes  Self-employed   \n",
       "...      ...   ...           ...            ...          ...            ...   \n",
       "5105  Female  80.0             1              0          Yes        Private   \n",
       "5106  Female  81.0             0              0          Yes  Self-employed   \n",
       "5107  Female  35.0             0              0          Yes  Self-employed   \n",
       "5108    Male  51.0             0              0          Yes        Private   \n",
       "5109  Female  44.0             0              0          Yes       Govt_job   \n",
       "\n",
       "     Residence_type  avg_glucose_level   bmi   smoking_status  stroke  \n",
       "0             Urban             170.00  36.6  formerly smoked       1  \n",
       "1             Rural             170.00  28.1     never smoked       1  \n",
       "2             Rural             105.92  32.5     never smoked       1  \n",
       "3             Urban             170.00  34.4           smokes       1  \n",
       "4             Rural             170.00  24.0     never smoked       1  \n",
       "...             ...                ...   ...              ...     ...  \n",
       "5105          Urban              83.75  28.1     never smoked       0  \n",
       "5106          Urban             125.20  40.0     never smoked       0  \n",
       "5107          Rural              82.99  30.6     never smoked       0  \n",
       "5108          Rural             166.29  25.6  formerly smoked       0  \n",
       "5109          Urban              85.28  26.2          Unknown       0  \n",
       "\n",
       "[5110 rows x 11 columns]"
      ]
     },
     "execution_count": 7,
     "metadata": {},
     "output_type": "execute_result"
    }
   ],
   "source": [
    "df"
   ]
  },
  {
   "cell_type": "markdown",
   "id": "2805cc16",
   "metadata": {},
   "source": [
    "#### Transform the variables that are an object datatype. ) "
   ]
  },
  {
   "cell_type": "code",
   "execution_count": 8,
   "id": "1d9ab798",
   "metadata": {},
   "outputs": [
    {
     "data": {
      "text/html": [
       "<div>\n",
       "<style scoped>\n",
       "    .dataframe tbody tr th:only-of-type {\n",
       "        vertical-align: middle;\n",
       "    }\n",
       "\n",
       "    .dataframe tbody tr th {\n",
       "        vertical-align: top;\n",
       "    }\n",
       "\n",
       "    .dataframe thead th {\n",
       "        text-align: right;\n",
       "    }\n",
       "</style>\n",
       "<table border=\"1\" class=\"dataframe\">\n",
       "  <thead>\n",
       "    <tr style=\"text-align: right;\">\n",
       "      <th></th>\n",
       "      <th>gender</th>\n",
       "      <th>age</th>\n",
       "      <th>hypertension</th>\n",
       "      <th>heart_disease</th>\n",
       "      <th>ever_married</th>\n",
       "      <th>work_type</th>\n",
       "      <th>Residence_type</th>\n",
       "      <th>avg_glucose_level</th>\n",
       "      <th>bmi</th>\n",
       "      <th>smoking_status</th>\n",
       "      <th>stroke</th>\n",
       "    </tr>\n",
       "  </thead>\n",
       "  <tbody>\n",
       "    <tr>\n",
       "      <th>0</th>\n",
       "      <td>Male</td>\n",
       "      <td>67.0</td>\n",
       "      <td>0</td>\n",
       "      <td>1</td>\n",
       "      <td>Yes</td>\n",
       "      <td>Private</td>\n",
       "      <td>Urban</td>\n",
       "      <td>170.00</td>\n",
       "      <td>36.6</td>\n",
       "      <td>formerly smoked</td>\n",
       "      <td>1</td>\n",
       "    </tr>\n",
       "    <tr>\n",
       "      <th>1</th>\n",
       "      <td>Female</td>\n",
       "      <td>61.0</td>\n",
       "      <td>0</td>\n",
       "      <td>0</td>\n",
       "      <td>Yes</td>\n",
       "      <td>Self-employed</td>\n",
       "      <td>Rural</td>\n",
       "      <td>170.00</td>\n",
       "      <td>28.1</td>\n",
       "      <td>never smoked</td>\n",
       "      <td>1</td>\n",
       "    </tr>\n",
       "    <tr>\n",
       "      <th>2</th>\n",
       "      <td>Male</td>\n",
       "      <td>80.0</td>\n",
       "      <td>0</td>\n",
       "      <td>1</td>\n",
       "      <td>Yes</td>\n",
       "      <td>Private</td>\n",
       "      <td>Rural</td>\n",
       "      <td>105.92</td>\n",
       "      <td>32.5</td>\n",
       "      <td>never smoked</td>\n",
       "      <td>1</td>\n",
       "    </tr>\n",
       "    <tr>\n",
       "      <th>3</th>\n",
       "      <td>Female</td>\n",
       "      <td>49.0</td>\n",
       "      <td>0</td>\n",
       "      <td>0</td>\n",
       "      <td>Yes</td>\n",
       "      <td>Private</td>\n",
       "      <td>Urban</td>\n",
       "      <td>170.00</td>\n",
       "      <td>34.4</td>\n",
       "      <td>smokes</td>\n",
       "      <td>1</td>\n",
       "    </tr>\n",
       "    <tr>\n",
       "      <th>4</th>\n",
       "      <td>Female</td>\n",
       "      <td>79.0</td>\n",
       "      <td>1</td>\n",
       "      <td>0</td>\n",
       "      <td>Yes</td>\n",
       "      <td>Self-employed</td>\n",
       "      <td>Rural</td>\n",
       "      <td>170.00</td>\n",
       "      <td>24.0</td>\n",
       "      <td>never smoked</td>\n",
       "      <td>1</td>\n",
       "    </tr>\n",
       "    <tr>\n",
       "      <th>...</th>\n",
       "      <td>...</td>\n",
       "      <td>...</td>\n",
       "      <td>...</td>\n",
       "      <td>...</td>\n",
       "      <td>...</td>\n",
       "      <td>...</td>\n",
       "      <td>...</td>\n",
       "      <td>...</td>\n",
       "      <td>...</td>\n",
       "      <td>...</td>\n",
       "      <td>...</td>\n",
       "    </tr>\n",
       "    <tr>\n",
       "      <th>5105</th>\n",
       "      <td>Female</td>\n",
       "      <td>80.0</td>\n",
       "      <td>1</td>\n",
       "      <td>0</td>\n",
       "      <td>Yes</td>\n",
       "      <td>Private</td>\n",
       "      <td>Urban</td>\n",
       "      <td>83.75</td>\n",
       "      <td>28.1</td>\n",
       "      <td>never smoked</td>\n",
       "      <td>0</td>\n",
       "    </tr>\n",
       "    <tr>\n",
       "      <th>5106</th>\n",
       "      <td>Female</td>\n",
       "      <td>81.0</td>\n",
       "      <td>0</td>\n",
       "      <td>0</td>\n",
       "      <td>Yes</td>\n",
       "      <td>Self-employed</td>\n",
       "      <td>Urban</td>\n",
       "      <td>125.20</td>\n",
       "      <td>40.0</td>\n",
       "      <td>never smoked</td>\n",
       "      <td>0</td>\n",
       "    </tr>\n",
       "    <tr>\n",
       "      <th>5107</th>\n",
       "      <td>Female</td>\n",
       "      <td>35.0</td>\n",
       "      <td>0</td>\n",
       "      <td>0</td>\n",
       "      <td>Yes</td>\n",
       "      <td>Self-employed</td>\n",
       "      <td>Rural</td>\n",
       "      <td>82.99</td>\n",
       "      <td>30.6</td>\n",
       "      <td>never smoked</td>\n",
       "      <td>0</td>\n",
       "    </tr>\n",
       "    <tr>\n",
       "      <th>5108</th>\n",
       "      <td>Male</td>\n",
       "      <td>51.0</td>\n",
       "      <td>0</td>\n",
       "      <td>0</td>\n",
       "      <td>Yes</td>\n",
       "      <td>Private</td>\n",
       "      <td>Rural</td>\n",
       "      <td>166.29</td>\n",
       "      <td>25.6</td>\n",
       "      <td>formerly smoked</td>\n",
       "      <td>0</td>\n",
       "    </tr>\n",
       "    <tr>\n",
       "      <th>5109</th>\n",
       "      <td>Female</td>\n",
       "      <td>44.0</td>\n",
       "      <td>0</td>\n",
       "      <td>0</td>\n",
       "      <td>Yes</td>\n",
       "      <td>Govt_job</td>\n",
       "      <td>Urban</td>\n",
       "      <td>85.28</td>\n",
       "      <td>26.2</td>\n",
       "      <td>Unknown</td>\n",
       "      <td>0</td>\n",
       "    </tr>\n",
       "  </tbody>\n",
       "</table>\n",
       "<p>5110 rows × 11 columns</p>\n",
       "</div>"
      ],
      "text/plain": [
       "      gender   age  hypertension  heart_disease ever_married      work_type  \\\n",
       "0       Male  67.0             0              1          Yes        Private   \n",
       "1     Female  61.0             0              0          Yes  Self-employed   \n",
       "2       Male  80.0             0              1          Yes        Private   \n",
       "3     Female  49.0             0              0          Yes        Private   \n",
       "4     Female  79.0             1              0          Yes  Self-employed   \n",
       "...      ...   ...           ...            ...          ...            ...   \n",
       "5105  Female  80.0             1              0          Yes        Private   \n",
       "5106  Female  81.0             0              0          Yes  Self-employed   \n",
       "5107  Female  35.0             0              0          Yes  Self-employed   \n",
       "5108    Male  51.0             0              0          Yes        Private   \n",
       "5109  Female  44.0             0              0          Yes       Govt_job   \n",
       "\n",
       "     Residence_type  avg_glucose_level   bmi   smoking_status  stroke  \n",
       "0             Urban             170.00  36.6  formerly smoked       1  \n",
       "1             Rural             170.00  28.1     never smoked       1  \n",
       "2             Rural             105.92  32.5     never smoked       1  \n",
       "3             Urban             170.00  34.4           smokes       1  \n",
       "4             Rural             170.00  24.0     never smoked       1  \n",
       "...             ...                ...   ...              ...     ...  \n",
       "5105          Urban              83.75  28.1     never smoked       0  \n",
       "5106          Urban             125.20  40.0     never smoked       0  \n",
       "5107          Rural              82.99  30.6     never smoked       0  \n",
       "5108          Rural             166.29  25.6  formerly smoked       0  \n",
       "5109          Urban              85.28  26.2          Unknown       0  \n",
       "\n",
       "[5110 rows x 11 columns]"
      ]
     },
     "execution_count": 8,
     "metadata": {},
     "output_type": "execute_result"
    }
   ],
   "source": [
    "df"
   ]
  },
  {
   "cell_type": "code",
   "execution_count": 9,
   "id": "32a7eaee",
   "metadata": {},
   "outputs": [],
   "source": [
    "le = LabelEncoder()"
   ]
  },
  {
   "cell_type": "code",
   "execution_count": 10,
   "id": "bd59e0d0",
   "metadata": {},
   "outputs": [],
   "source": [
    "# so we use a for loop that starts at index 0 and we check the dtype of each column and if they are considered as an object\n",
    "#then we let label encoder transform it which gives us our new table without any string columns\n",
    "for i in df.columns[0:]:\n",
    "    if(df[i].dtype == 'object'):\n",
    "        df[i] = le.fit_transform(df[i])"
   ]
  },
  {
   "cell_type": "code",
   "execution_count": 11,
   "id": "cc65a04c",
   "metadata": {
    "scrolled": true
   },
   "outputs": [
    {
     "data": {
      "text/html": [
       "<div>\n",
       "<style scoped>\n",
       "    .dataframe tbody tr th:only-of-type {\n",
       "        vertical-align: middle;\n",
       "    }\n",
       "\n",
       "    .dataframe tbody tr th {\n",
       "        vertical-align: top;\n",
       "    }\n",
       "\n",
       "    .dataframe thead th {\n",
       "        text-align: right;\n",
       "    }\n",
       "</style>\n",
       "<table border=\"1\" class=\"dataframe\">\n",
       "  <thead>\n",
       "    <tr style=\"text-align: right;\">\n",
       "      <th></th>\n",
       "      <th>gender</th>\n",
       "      <th>age</th>\n",
       "      <th>hypertension</th>\n",
       "      <th>heart_disease</th>\n",
       "      <th>ever_married</th>\n",
       "      <th>work_type</th>\n",
       "      <th>Residence_type</th>\n",
       "      <th>avg_glucose_level</th>\n",
       "      <th>bmi</th>\n",
       "      <th>smoking_status</th>\n",
       "      <th>stroke</th>\n",
       "    </tr>\n",
       "  </thead>\n",
       "  <tbody>\n",
       "    <tr>\n",
       "      <th>0</th>\n",
       "      <td>1</td>\n",
       "      <td>67.0</td>\n",
       "      <td>0</td>\n",
       "      <td>1</td>\n",
       "      <td>1</td>\n",
       "      <td>2</td>\n",
       "      <td>1</td>\n",
       "      <td>170.00</td>\n",
       "      <td>36.6</td>\n",
       "      <td>1</td>\n",
       "      <td>1</td>\n",
       "    </tr>\n",
       "    <tr>\n",
       "      <th>1</th>\n",
       "      <td>0</td>\n",
       "      <td>61.0</td>\n",
       "      <td>0</td>\n",
       "      <td>0</td>\n",
       "      <td>1</td>\n",
       "      <td>3</td>\n",
       "      <td>0</td>\n",
       "      <td>170.00</td>\n",
       "      <td>28.1</td>\n",
       "      <td>2</td>\n",
       "      <td>1</td>\n",
       "    </tr>\n",
       "    <tr>\n",
       "      <th>2</th>\n",
       "      <td>1</td>\n",
       "      <td>80.0</td>\n",
       "      <td>0</td>\n",
       "      <td>1</td>\n",
       "      <td>1</td>\n",
       "      <td>2</td>\n",
       "      <td>0</td>\n",
       "      <td>105.92</td>\n",
       "      <td>32.5</td>\n",
       "      <td>2</td>\n",
       "      <td>1</td>\n",
       "    </tr>\n",
       "    <tr>\n",
       "      <th>3</th>\n",
       "      <td>0</td>\n",
       "      <td>49.0</td>\n",
       "      <td>0</td>\n",
       "      <td>0</td>\n",
       "      <td>1</td>\n",
       "      <td>2</td>\n",
       "      <td>1</td>\n",
       "      <td>170.00</td>\n",
       "      <td>34.4</td>\n",
       "      <td>3</td>\n",
       "      <td>1</td>\n",
       "    </tr>\n",
       "    <tr>\n",
       "      <th>4</th>\n",
       "      <td>0</td>\n",
       "      <td>79.0</td>\n",
       "      <td>1</td>\n",
       "      <td>0</td>\n",
       "      <td>1</td>\n",
       "      <td>3</td>\n",
       "      <td>0</td>\n",
       "      <td>170.00</td>\n",
       "      <td>24.0</td>\n",
       "      <td>2</td>\n",
       "      <td>1</td>\n",
       "    </tr>\n",
       "    <tr>\n",
       "      <th>...</th>\n",
       "      <td>...</td>\n",
       "      <td>...</td>\n",
       "      <td>...</td>\n",
       "      <td>...</td>\n",
       "      <td>...</td>\n",
       "      <td>...</td>\n",
       "      <td>...</td>\n",
       "      <td>...</td>\n",
       "      <td>...</td>\n",
       "      <td>...</td>\n",
       "      <td>...</td>\n",
       "    </tr>\n",
       "    <tr>\n",
       "      <th>5105</th>\n",
       "      <td>0</td>\n",
       "      <td>80.0</td>\n",
       "      <td>1</td>\n",
       "      <td>0</td>\n",
       "      <td>1</td>\n",
       "      <td>2</td>\n",
       "      <td>1</td>\n",
       "      <td>83.75</td>\n",
       "      <td>28.1</td>\n",
       "      <td>2</td>\n",
       "      <td>0</td>\n",
       "    </tr>\n",
       "    <tr>\n",
       "      <th>5106</th>\n",
       "      <td>0</td>\n",
       "      <td>81.0</td>\n",
       "      <td>0</td>\n",
       "      <td>0</td>\n",
       "      <td>1</td>\n",
       "      <td>3</td>\n",
       "      <td>1</td>\n",
       "      <td>125.20</td>\n",
       "      <td>40.0</td>\n",
       "      <td>2</td>\n",
       "      <td>0</td>\n",
       "    </tr>\n",
       "    <tr>\n",
       "      <th>5107</th>\n",
       "      <td>0</td>\n",
       "      <td>35.0</td>\n",
       "      <td>0</td>\n",
       "      <td>0</td>\n",
       "      <td>1</td>\n",
       "      <td>3</td>\n",
       "      <td>0</td>\n",
       "      <td>82.99</td>\n",
       "      <td>30.6</td>\n",
       "      <td>2</td>\n",
       "      <td>0</td>\n",
       "    </tr>\n",
       "    <tr>\n",
       "      <th>5108</th>\n",
       "      <td>1</td>\n",
       "      <td>51.0</td>\n",
       "      <td>0</td>\n",
       "      <td>0</td>\n",
       "      <td>1</td>\n",
       "      <td>2</td>\n",
       "      <td>0</td>\n",
       "      <td>166.29</td>\n",
       "      <td>25.6</td>\n",
       "      <td>1</td>\n",
       "      <td>0</td>\n",
       "    </tr>\n",
       "    <tr>\n",
       "      <th>5109</th>\n",
       "      <td>0</td>\n",
       "      <td>44.0</td>\n",
       "      <td>0</td>\n",
       "      <td>0</td>\n",
       "      <td>1</td>\n",
       "      <td>0</td>\n",
       "      <td>1</td>\n",
       "      <td>85.28</td>\n",
       "      <td>26.2</td>\n",
       "      <td>0</td>\n",
       "      <td>0</td>\n",
       "    </tr>\n",
       "  </tbody>\n",
       "</table>\n",
       "<p>5110 rows × 11 columns</p>\n",
       "</div>"
      ],
      "text/plain": [
       "      gender   age  hypertension  heart_disease  ever_married  work_type  \\\n",
       "0          1  67.0             0              1             1          2   \n",
       "1          0  61.0             0              0             1          3   \n",
       "2          1  80.0             0              1             1          2   \n",
       "3          0  49.0             0              0             1          2   \n",
       "4          0  79.0             1              0             1          3   \n",
       "...      ...   ...           ...            ...           ...        ...   \n",
       "5105       0  80.0             1              0             1          2   \n",
       "5106       0  81.0             0              0             1          3   \n",
       "5107       0  35.0             0              0             1          3   \n",
       "5108       1  51.0             0              0             1          2   \n",
       "5109       0  44.0             0              0             1          0   \n",
       "\n",
       "      Residence_type  avg_glucose_level   bmi  smoking_status  stroke  \n",
       "0                  1             170.00  36.6               1       1  \n",
       "1                  0             170.00  28.1               2       1  \n",
       "2                  0             105.92  32.5               2       1  \n",
       "3                  1             170.00  34.4               3       1  \n",
       "4                  0             170.00  24.0               2       1  \n",
       "...              ...                ...   ...             ...     ...  \n",
       "5105               1              83.75  28.1               2       0  \n",
       "5106               1             125.20  40.0               2       0  \n",
       "5107               0              82.99  30.6               2       0  \n",
       "5108               0             166.29  25.6               1       0  \n",
       "5109               1              85.28  26.2               0       0  \n",
       "\n",
       "[5110 rows x 11 columns]"
      ]
     },
     "execution_count": 11,
     "metadata": {},
     "output_type": "execute_result"
    }
   ],
   "source": [
    "df"
   ]
  },
  {
   "cell_type": "markdown",
   "id": "06a2e8f4",
   "metadata": {},
   "source": [
    "##### Looking for best features to use and worst to drop"
   ]
  },
  {
   "cell_type": "code",
   "execution_count": 12,
   "id": "98499c62",
   "metadata": {},
   "outputs": [
    {
     "data": {
      "image/png": "[encoded data removed]",
      "text/plain": [
       "<Figure size 720x720 with 2 Axes>"
      ]
     },
     "metadata": {
      "needs_background": "light"
     },
     "output_type": "display_data"
    }
   ],
   "source": [
    "corrmat = df.corr()\n",
    "top_corr_features = corrmat.index\n",
    "plt.figure(figsize = (10,10))\n",
    "g = sns.heatmap(df[top_corr_features].corr(), annot = True, cmap = \"RdYlGn\")"
   ]
  },
  {
   "cell_type": "code",
   "execution_count": 13,
   "id": "418cffc1",
   "metadata": {},
   "outputs": [],
   "source": [
    "#x = df[['gender', 'age', 'hypertension', 'heart_disease', 'ever_married', 'work_type', 'Residence_type', 'avg_glucose_level', 'bmi', 'smoking_status']]\n",
    "#y = df[['stroke']]"
   ]
  },
  {
   "cell_type": "code",
   "execution_count": 14,
   "id": "dfaf7e67",
   "metadata": {},
   "outputs": [],
   "source": [
    "#preparing the selectkbest\n",
    "#bestfeatures = SelectKBest(score_func=chi2, k=10)\n",
    "#fit = bestfeatures.fit(x,y)\n",
    "#dfscores = pd.DataFrame(fit.scores_)\n",
    "#dfcolumns = pd.DataFrame(x.columns)\n",
    "#creates a quick graph to show the features and their score\n",
    "#featureScores = pd.concat([dfcolumns,dfscores],axis=1)\n",
    "#featureScores.columns = ['Features','Score']"
   ]
  },
  {
   "cell_type": "code",
   "execution_count": 15,
   "id": "25bcc1e1",
   "metadata": {},
   "outputs": [],
   "source": [
    "#featureScores"
   ]
  },
  {
   "cell_type": "code",
   "execution_count": 16,
   "id": "ecdcde3a",
   "metadata": {},
   "outputs": [],
   "source": [
    "#print(featureScores.nlargest(8,'Score'))"
   ]
  },
  {
   "cell_type": "code",
   "execution_count": 17,
   "id": "e7c8b18e",
   "metadata": {},
   "outputs": [],
   "source": [
    "df = df.drop(['gender'], axis = 1)\n",
    "df = df.drop(['Residence_type'], axis = 1)\n",
    "#df = df.drop(['work_type'], axis = 1)\n",
    "#df = df.drop(['bmi'], axis = 1)"
   ]
  },
  {
   "cell_type": "code",
   "execution_count": 18,
   "id": "8b148808",
   "metadata": {},
   "outputs": [
    {
     "data": {
      "text/html": [
       "<div>\n",
       "<style scoped>\n",
       "    .dataframe tbody tr th:only-of-type {\n",
       "        vertical-align: middle;\n",
       "    }\n",
       "\n",
       "    .dataframe tbody tr th {\n",
       "        vertical-align: top;\n",
       "    }\n",
       "\n",
       "    .dataframe thead th {\n",
       "        text-align: right;\n",
       "    }\n",
       "</style>\n",
       "<table border=\"1\" class=\"dataframe\">\n",
       "  <thead>\n",
       "    <tr style=\"text-align: right;\">\n",
       "      <th></th>\n",
       "      <th>age</th>\n",
       "      <th>hypertension</th>\n",
       "      <th>heart_disease</th>\n",
       "      <th>ever_married</th>\n",
       "      <th>work_type</th>\n",
       "      <th>avg_glucose_level</th>\n",
       "      <th>bmi</th>\n",
       "      <th>smoking_status</th>\n",
       "      <th>stroke</th>\n",
       "    </tr>\n",
       "  </thead>\n",
       "  <tbody>\n",
       "    <tr>\n",
       "      <th>age</th>\n",
       "      <td>1.000000</td>\n",
       "      <td>0.276498</td>\n",
       "      <td>0.263415</td>\n",
       "      <td>0.679084</td>\n",
       "      <td>-0.361650</td>\n",
       "      <td>0.200173</td>\n",
       "      <td>0.349068</td>\n",
       "      <td>0.265303</td>\n",
       "      <td>0.244843</td>\n",
       "    </tr>\n",
       "    <tr>\n",
       "      <th>hypertension</th>\n",
       "      <td>0.276498</td>\n",
       "      <td>1.000000</td>\n",
       "      <td>0.108763</td>\n",
       "      <td>0.164300</td>\n",
       "      <td>-0.051772</td>\n",
       "      <td>0.157536</td>\n",
       "      <td>0.154312</td>\n",
       "      <td>0.111018</td>\n",
       "      <td>0.128435</td>\n",
       "    </tr>\n",
       "    <tr>\n",
       "      <th>heart_disease</th>\n",
       "      <td>0.263415</td>\n",
       "      <td>0.108763</td>\n",
       "      <td>1.000000</td>\n",
       "      <td>0.114253</td>\n",
       "      <td>-0.027945</td>\n",
       "      <td>0.138851</td>\n",
       "      <td>0.043105</td>\n",
       "      <td>0.048833</td>\n",
       "      <td>0.131772</td>\n",
       "    </tr>\n",
       "    <tr>\n",
       "      <th>ever_married</th>\n",
       "      <td>0.679084</td>\n",
       "      <td>0.164300</td>\n",
       "      <td>0.114253</td>\n",
       "      <td>1.000000</td>\n",
       "      <td>-0.352719</td>\n",
       "      <td>0.133540</td>\n",
       "      <td>0.355245</td>\n",
       "      <td>0.259714</td>\n",
       "      <td>0.107926</td>\n",
       "    </tr>\n",
       "    <tr>\n",
       "      <th>work_type</th>\n",
       "      <td>-0.361650</td>\n",
       "      <td>-0.051772</td>\n",
       "      <td>-0.027945</td>\n",
       "      <td>-0.352719</td>\n",
       "      <td>1.000000</td>\n",
       "      <td>-0.040445</td>\n",
       "      <td>-0.316391</td>\n",
       "      <td>-0.305942</td>\n",
       "      <td>-0.032245</td>\n",
       "    </tr>\n",
       "    <tr>\n",
       "      <th>avg_glucose_level</th>\n",
       "      <td>0.200173</td>\n",
       "      <td>0.157536</td>\n",
       "      <td>0.138851</td>\n",
       "      <td>0.133540</td>\n",
       "      <td>-0.040445</td>\n",
       "      <td>1.000000</td>\n",
       "      <td>0.151516</td>\n",
       "      <td>0.052895</td>\n",
       "      <td>0.114500</td>\n",
       "    </tr>\n",
       "    <tr>\n",
       "      <th>bmi</th>\n",
       "      <td>0.349068</td>\n",
       "      <td>0.154312</td>\n",
       "      <td>0.043105</td>\n",
       "      <td>0.355245</td>\n",
       "      <td>-0.316391</td>\n",
       "      <td>0.151516</td>\n",
       "      <td>1.000000</td>\n",
       "      <td>0.232986</td>\n",
       "      <td>0.041328</td>\n",
       "    </tr>\n",
       "    <tr>\n",
       "      <th>smoking_status</th>\n",
       "      <td>0.265303</td>\n",
       "      <td>0.111018</td>\n",
       "      <td>0.048833</td>\n",
       "      <td>0.259714</td>\n",
       "      <td>-0.305942</td>\n",
       "      <td>0.052895</td>\n",
       "      <td>0.232986</td>\n",
       "      <td>1.000000</td>\n",
       "      <td>0.028482</td>\n",
       "    </tr>\n",
       "    <tr>\n",
       "      <th>stroke</th>\n",
       "      <td>0.244843</td>\n",
       "      <td>0.128435</td>\n",
       "      <td>0.131772</td>\n",
       "      <td>0.107926</td>\n",
       "      <td>-0.032245</td>\n",
       "      <td>0.114500</td>\n",
       "      <td>0.041328</td>\n",
       "      <td>0.028482</td>\n",
       "      <td>1.000000</td>\n",
       "    </tr>\n",
       "  </tbody>\n",
       "</table>\n",
       "</div>"
      ],
      "text/plain": [
       "                        age  hypertension  heart_disease  ever_married  \\\n",
       "age                1.000000      0.276498       0.263415      0.679084   \n",
       "hypertension       0.276498      1.000000       0.108763      0.164300   \n",
       "heart_disease      0.263415      0.108763       1.000000      0.114253   \n",
       "ever_married       0.679084      0.164300       0.114253      1.000000   \n",
       "work_type         -0.361650     -0.051772      -0.027945     -0.352719   \n",
       "avg_glucose_level  0.200173      0.157536       0.138851      0.133540   \n",
       "bmi                0.349068      0.154312       0.043105      0.355245   \n",
       "smoking_status     0.265303      0.111018       0.048833      0.259714   \n",
       "stroke             0.244843      0.128435       0.131772      0.107926   \n",
       "\n",
       "                   work_type  avg_glucose_level       bmi  smoking_status  \\\n",
       "age                -0.361650           0.200173  0.349068        0.265303   \n",
       "hypertension       -0.051772           0.157536  0.154312        0.111018   \n",
       "heart_disease      -0.027945           0.138851  0.043105        0.048833   \n",
       "ever_married       -0.352719           0.133540  0.355245        0.259714   \n",
       "work_type           1.000000          -0.040445 -0.316391       -0.305942   \n",
       "avg_glucose_level  -0.040445           1.000000  0.151516        0.052895   \n",
       "bmi                -0.316391           0.151516  1.000000        0.232986   \n",
       "smoking_status     -0.305942           0.052895  0.232986        1.000000   \n",
       "stroke             -0.032245           0.114500  0.041328        0.028482   \n",
       "\n",
       "                     stroke  \n",
       "age                0.244843  \n",
       "hypertension       0.128435  \n",
       "heart_disease      0.131772  \n",
       "ever_married       0.107926  \n",
       "work_type         -0.032245  \n",
       "avg_glucose_level  0.114500  \n",
       "bmi                0.041328  \n",
       "smoking_status     0.028482  \n",
       "stroke             1.000000  "
      ]
     },
     "execution_count": 18,
     "metadata": {},
     "output_type": "execute_result"
    }
   ],
   "source": [
    "df[1:].corr()"
   ]
  },
  {
   "cell_type": "markdown",
   "id": "18afc249",
   "metadata": {},
   "source": [
    "### Standarizing the data"
   ]
  },
  {
   "cell_type": "code",
   "execution_count": 19,
   "id": "4615daca",
   "metadata": {},
   "outputs": [],
   "source": [
    "scaler = StandardScaler().fit(df)\n",
    "sD = scaler.transform(df)\n",
    "sD = pd.DataFrame(sD, index=df.index,columns=df.columns)"
   ]
  },
  {
   "cell_type": "markdown",
   "id": "69e2ff0a",
   "metadata": {},
   "source": [
    "### Splitting data into input and output"
   ]
  },
  {
   "cell_type": "code",
   "execution_count": 20,
   "id": "2eb906c3",
   "metadata": {},
   "outputs": [],
   "source": [
    "#removing gender and residecnetype worktype and bmi\n",
    "x = sD[[ 'age', 'work_type', 'bmi', 'hypertension', 'heart_disease', 'ever_married', 'avg_glucose_level', 'smoking_status']]\n",
    "y = sD[['stroke']]\n",
    "x_train, x_test, y_train, y_test = train_test_split(x, y, test_size = 0.20, random_state = 0)"
   ]
  },
  {
   "cell_type": "code",
   "execution_count": 21,
   "id": "0c47b1b1",
   "metadata": {},
   "outputs": [],
   "source": [
    "#Create a MinMaxScaler object\n",
    "scaler = MinMaxScaler()\n",
    "# Fit the scaler to the data\n",
    "scaler.fit(x)\n",
    "# Transform the data using the scaler\n",
    "x_norm = scaler.transform(x)"
   ]
  },
  {
   "cell_type": "code",
   "execution_count": 22,
   "id": "279abc86",
   "metadata": {},
   "outputs": [],
   "source": [
    "#x_norm"
   ]
  },
  {
   "cell_type": "code",
   "execution_count": 23,
   "id": "561a38f2",
   "metadata": {},
   "outputs": [],
   "source": [
    "# Convert the normalized data back to a DataFrame\n",
    "x_norm = pd.DataFrame(x_norm, columns=x.columns)"
   ]
  },
  {
   "cell_type": "code",
   "execution_count": 24,
   "id": "b9ba4900",
   "metadata": {},
   "outputs": [],
   "source": [
    "#lab = preprocessing.LabelEncoder()\n",
    "#y_norm = lab.fit_transform(y.values.ravel())"
   ]
  },
  {
   "cell_type": "code",
   "execution_count": 25,
   "id": "446525ca",
   "metadata": {},
   "outputs": [],
   "source": [
    "#y_norm"
   ]
  },
  {
   "cell_type": "code",
   "execution_count": 26,
   "id": "9574506b",
   "metadata": {},
   "outputs": [],
   "source": [
    "#preparing the selectkbest\n",
    "#bestfeatures = SelectKBest(score_func=chi2, k=10)\n",
    "#fit = bestfeatures.fit(x_norm,y_norm)\n",
    "#dfscores = pd.DataFrame(fit.scores_)\n",
    "#dfcolumns = pd.DataFrame(x_norm.columns)\n",
    "#creates a quick graph to show the features and their score\n",
    "#featureScores = pd.concat([dfcolumns,dfscores],axis=1)\n",
    "#featureScores.columns = ['Features','Score']"
   ]
  },
  {
   "cell_type": "code",
   "execution_count": 27,
   "id": "788fae68",
   "metadata": {},
   "outputs": [],
   "source": [
    "#featureScores"
   ]
  },
  {
   "cell_type": "markdown",
   "id": "9608e028",
   "metadata": {},
   "source": [
    "### Normalizing the output y"
   ]
  },
  {
   "cell_type": "code",
   "execution_count": 28,
   "id": "e646f867",
   "metadata": {},
   "outputs": [],
   "source": [
    "lab = preprocessing.LabelEncoder()\n",
    "y_transTrain = lab.fit_transform(y_train.values.ravel())\n",
    "y_testNorm = lab.fit_transform(y_test.values.ravel())"
   ]
  },
  {
   "cell_type": "markdown",
   "id": "8fcf7334",
   "metadata": {},
   "source": [
    "### applying SMOTE"
   ]
  },
  {
   "cell_type": "code",
   "execution_count": 29,
   "id": "27752cdc",
   "metadata": {},
   "outputs": [
    {
     "name": "stdout",
     "output_type": "stream",
     "text": [
      "\n",
      "\t Pre oversampling, the shape of x_train:(4088, 8)\n",
      "\n",
      "\t Pre oversampling, the shape of y_train:(4088,)\n"
     ]
    }
   ],
   "source": [
    "print(\"\\n\\t Pre oversampling, the shape of x_train:{}\".format(x_train.shape))\n",
    "print(\"\\n\\t Pre oversampling, the shape of y_train:{}\".format(y_transTrain.shape))"
   ]
  },
  {
   "cell_type": "code",
   "execution_count": 30,
   "id": "aacce6cd",
   "metadata": {},
   "outputs": [
    {
     "name": "stdout",
     "output_type": "stream",
     "text": [
      "Pre OverSampling, counts of label '1': 0\n",
      "Pre OverSampling, counts of label '0': 3893\n"
     ]
    }
   ],
   "source": [
    "print(\"Pre OverSampling, counts of label '1': {}\".format(sum(y_train.values.ravel() == 1))) \n",
    "print(\"Pre OverSampling, counts of label '0': {}\".format(sum(y_transTrain== 0)))"
   ]
  },
  {
   "cell_type": "code",
   "execution_count": 31,
   "id": "858772d1",
   "metadata": {},
   "outputs": [],
   "source": [
    "sm = SMOTE(sampling_strategy = 0.3, k_neighbors = 5, random_state = 100)"
   ]
  },
  {
   "cell_type": "code",
   "execution_count": 32,
   "id": "316e02da",
   "metadata": {},
   "outputs": [],
   "source": [
    "x_train_res, y_train_res = sm.fit_resample(x_train, y_transTrain)"
   ]
  },
  {
   "cell_type": "code",
   "execution_count": 33,
   "id": "111f43b8",
   "metadata": {},
   "outputs": [
    {
     "name": "stdout",
     "output_type": "stream",
     "text": [
      "\n",
      "\t Post oversampling, the shape of x_train_res:(5060, 8)\n",
      "\n",
      "\t Post oversampling, the shape of y_train_res:(5060,)\n"
     ]
    }
   ],
   "source": [
    "print(\"\\n\\t Post oversampling, the shape of x_train_res:{}\".format(x_train_res.shape))\n",
    "print(\"\\n\\t Post oversampling, the shape of y_train_res:{}\".format(y_train_res.shape))"
   ]
  },
  {
   "cell_type": "code",
   "execution_count": 34,
   "id": "af860cf9",
   "metadata": {},
   "outputs": [
    {
     "name": "stdout",
     "output_type": "stream",
     "text": [
      "After OverSampling, counts of label '1': 1167\n",
      "After OverSampling, counts of label '0': 3893\n"
     ]
    }
   ],
   "source": [
    "print(\"After OverSampling, counts of label '1': {}\".format(sum(y_train_res == 1))) \n",
    "print(\"After OverSampling, counts of label '0': {}\".format(sum(y_train_res == 0)))"
   ]
  },
  {
   "cell_type": "markdown",
   "id": "7bb23208",
   "metadata": {},
   "source": [
    "### Building a Logistic Regression Model Using Training Set "
   ]
  },
  {
   "cell_type": "code",
   "execution_count": 35,
   "id": "6df47016",
   "metadata": {},
   "outputs": [],
   "source": [
    "model = LogisticRegression()"
   ]
  },
  {
   "cell_type": "code",
   "execution_count": 36,
   "id": "c24e128b",
   "metadata": {},
   "outputs": [
    {
     "data": {
      "text/plain": [
       "LogisticRegression()"
      ]
     },
     "execution_count": 36,
     "metadata": {},
     "output_type": "execute_result"
    }
   ],
   "source": [
    "model.fit(x_train_res, y_train_res)"
   ]
  },
  {
   "cell_type": "markdown",
   "id": "e208e068",
   "metadata": {},
   "source": [
    "#### Predicting accuracy score for testing data  and training to compare"
   ]
  },
  {
   "cell_type": "code",
   "execution_count": 37,
   "id": "0667615f",
   "metadata": {},
   "outputs": [
    {
     "name": "stdout",
     "output_type": "stream",
     "text": [
      "accuracy for model on testing data is: 0.87\n"
     ]
    }
   ],
   "source": [
    "ypredTest = model.predict(x_test)\n",
    "accuracyTest = accuracy_score(y_testNorm, ypredTest)\n",
    "print(\"accuracy for model on testing data is:\", accuracyTest.round(2))"
   ]
  },
  {
   "cell_type": "code",
   "execution_count": 38,
   "id": "ce40af8e",
   "metadata": {},
   "outputs": [
    {
     "name": "stdout",
     "output_type": "stream",
     "text": [
      "accuracy for model on testing data is: 0.81\n"
     ]
    }
   ],
   "source": [
    "# Make predictions on the training data\n",
    "y_predTrain = model.predict(x_train_res)\n",
    "accuracyTrain = accuracy_score(y_train_res, y_predTrain)\n",
    "print(\"accuracy for model on testing data is:\", accuracyTrain.round(2))"
   ]
  },
  {
   "cell_type": "markdown",
   "id": "78f7d737",
   "metadata": {},
   "source": [
    "### Building a Naive Bayes Model using the Training set"
   ]
  },
  {
   "cell_type": "code",
   "execution_count": 39,
   "id": "9e908158",
   "metadata": {},
   "outputs": [],
   "source": [
    "nb_model = GaussianNB()"
   ]
  },
  {
   "cell_type": "code",
   "execution_count": 40,
   "id": "c33882a3",
   "metadata": {},
   "outputs": [
    {
     "data": {
      "text/plain": [
       "GaussianNB()"
      ]
     },
     "execution_count": 40,
     "metadata": {},
     "output_type": "execute_result"
    }
   ],
   "source": [
    "nb_model.fit(x_train_res, y_train_res)"
   ]
  },
  {
   "cell_type": "markdown",
   "id": "93850001",
   "metadata": {},
   "source": [
    "#### Predicting accuracy score for testing data  and training to compare"
   ]
  },
  {
   "cell_type": "code",
   "execution_count": 41,
   "id": "e1cb4a4d",
   "metadata": {},
   "outputs": [
    {
     "name": "stdout",
     "output_type": "stream",
     "text": [
      "accuracy for model on testing data is: 0.83\n"
     ]
    }
   ],
   "source": [
    "ypredTest2 = nb_model.predict(x_test)\n",
    "accuracyTest2 = accuracy_score(y_testNorm, ypredTest2)\n",
    "print(\"accuracy for model on testing data is:\", accuracyTest2.round(2))"
   ]
  },
  {
   "cell_type": "code",
   "execution_count": 42,
   "id": "9883f9a6",
   "metadata": {},
   "outputs": [
    {
     "name": "stdout",
     "output_type": "stream",
     "text": [
      "accuracy for model on testing data is: 0.78\n"
     ]
    }
   ],
   "source": [
    "# Make predictions on the training data\n",
    "y_predTrain2 = nb_model.predict(x_train_res)\n",
    "accuracyTrain2 = accuracy_score(y_train_res, y_predTrain2)\n",
    "print(\"accuracy for model on testing data is:\", accuracyTrain2.round(2))"
   ]
  },
  {
   "cell_type": "markdown",
   "id": "c04fec27",
   "metadata": {},
   "source": [
    "### Building a K-Nearest Neighbor Classifier model using Training Set "
   ]
  },
  {
   "cell_type": "code",
   "execution_count": 43,
   "id": "37e12a75",
   "metadata": {},
   "outputs": [],
   "source": [
    "knn = KNeighborsClassifier(n_neighbors=3)"
   ]
  },
  {
   "cell_type": "code",
   "execution_count": 44,
   "id": "971e67bb",
   "metadata": {},
   "outputs": [
    {
     "data": {
      "text/plain": [
       "KNeighborsClassifier(n_neighbors=3)"
      ]
     },
     "execution_count": 44,
     "metadata": {},
     "output_type": "execute_result"
    }
   ],
   "source": [
    "# Train the model on the training data\n",
    "knn.fit(x_train_res, y_train_res)"
   ]
  },
  {
   "cell_type": "markdown",
   "id": "3abeeb74",
   "metadata": {},
   "source": [
    "#### Predicting accuracy score for testing data  and training to compare"
   ]
  },
  {
   "cell_type": "code",
   "execution_count": 45,
   "id": "a38ae907",
   "metadata": {},
   "outputs": [
    {
     "name": "stdout",
     "output_type": "stream",
     "text": [
      "accuracy for model on testing data is: 0.883\n"
     ]
    }
   ],
   "source": [
    "# Make predictions on the testing data\n",
    "y_predTest3 = knn.predict(x_test)\n",
    "accuracyTest3 = accuracy_score(y_testNorm, y_predTest3)\n",
    "print(\"accuracy for model on testing data is:\", accuracyTest3.round(3))"
   ]
  },
  {
   "cell_type": "code",
   "execution_count": 46,
   "id": "e556a66f",
   "metadata": {},
   "outputs": [
    {
     "name": "stdout",
     "output_type": "stream",
     "text": [
      "accuracy for model on testing data is: 0.952\n"
     ]
    }
   ],
   "source": [
    "# Make predictions on the training data\n",
    "y_predTrain3 = knn.predict(x_train_res)\n",
    "accuracyTrain3 = accuracy_score(y_train_res, y_predTrain3)\n",
    "print(\"accuracy for model on testing data is:\", accuracyTrain3.round(3))"
   ]
  },
  {
   "cell_type": "markdown",
   "id": "268187a8",
   "metadata": {},
   "source": [
    "### Build a  Support Vector Machine Classifier model using the training set."
   ]
  },
  {
   "cell_type": "code",
   "execution_count": 47,
   "id": "e221259e",
   "metadata": {},
   "outputs": [
    {
     "data": {
      "text/plain": [
       "SVC()"
      ]
     },
     "execution_count": 47,
     "metadata": {},
     "output_type": "execute_result"
    }
   ],
   "source": [
    "svm = SVC()\n",
    "# Train the model on the training data\n",
    "svm.fit(x_train_res, y_train_res)\n"
   ]
  },
  {
   "cell_type": "markdown",
   "id": "7efd2d54",
   "metadata": {},
   "source": [
    "#### Predicting accuracy score for testing data  and training to compare"
   ]
  },
  {
   "cell_type": "code",
   "execution_count": 48,
   "id": "7baf8e76",
   "metadata": {},
   "outputs": [
    {
     "name": "stdout",
     "output_type": "stream",
     "text": [
      "accuracy for model on testing data is: 0.9\n"
     ]
    }
   ],
   "source": [
    "# Make predictions on the testing data\n",
    "y_predTest4 = svm.predict(x_test)\n",
    "accuracyTest4 = accuracy_score(y_testNorm, y_predTest4)\n",
    "print(\"accuracy for model on testing data is:\", accuracyTest4.round(2))"
   ]
  },
  {
   "cell_type": "code",
   "execution_count": 49,
   "id": "7dc99851",
   "metadata": {},
   "outputs": [
    {
     "name": "stdout",
     "output_type": "stream",
     "text": [
      "accuracy for model on testing data is: 0.85\n"
     ]
    }
   ],
   "source": [
    "# Make predictions on the training data\n",
    "y_predTrain4 = svm.predict(x_train_res)\n",
    "accuracyTrain4 = accuracy_score(y_train_res, y_predTrain4)\n",
    "print(\"accuracy for model on testing data is:\", accuracyTrain4.round(2))"
   ]
  },
  {
   "cell_type": "code",
   "execution_count": null,
   "id": "cebabc1e",
   "metadata": {},
   "outputs": [],
   "source": []
  }
 ],
 "metadata": {
  "kernelspec": {
   "display_name": "Python 3 (ipykernel)",
   "language": "python",
   "name": "python3"
  },
  "language_info": {
   "codemirror_mode": {
    "name": "ipython",
    "version": 3
   },
   "file_extension": ".py",
   "mimetype": "text/x-python",
   "name": "python",
   "nbconvert_exporter": "python",
   "pygments_lexer": "ipython3",
   "version": "3.9.12"
  }
 },
 "nbformat": 4,
 "nbformat_minor": 5
}
